{
 "cells": [
  {
   "cell_type": "code",
   "execution_count": 1,
   "id": "c41dc3dc-d847-44f6-85c4-7777065cff43",
   "metadata": {},
   "outputs": [
    {
     "name": "stdout",
     "output_type": "stream",
     "text": [
      "{'name': 'Elie', 'job': 'Instructor'}\n",
      "{'CA': 'California', 'NJ': 'New Jersey', 'RI': 'Rhode Island'}\n",
      "{'a': 0, 'e': 0, 'i': 0, 'o': 0, 'u': 0}\n",
      "{0: 'A', 1: 'B', 2: 'C', 3: 'D', 4: 'E', 5: 'F', 6: 'G', 7: 'H', 8: 'I', 9: 'J', 10: 'K', 11: 'L', 12: 'M', 13: 'N', 14: 'O', 15: 'P', 16: 'Q', 17: 'R', 18: 'S', 19: 'T', 20: 'U', 21: 'V', 22: 'W', 23: 'X', 24: 'Y', 25: 'Z'}\n",
      "{'a': 2, 'e': 3, 'i': 0, 'o': 1, 'u': 1}\n"
     ]
    }
   ],
   "source": [
    "# 1. Given a list [(\"name\", \"Elie\"), (\"job\", \"Instructor\")], create a dictionary that looks like this {'job': 'Instructor', 'name': 'Elie'} (the order does not matter).\n",
    "list_given = [(\"name\", \"Elie\"), (\"job\", \"Instructor\")]\n",
    "dictionary = dict(list_given)\n",
    "print(dictionary)\n",
    "\n",
    "# 2. Given two lists [\"CA\", \"NJ\", \"RI\"] and [\"California\", \"New Jersey\", \"Rhode Island\"] return a dictionary that looks like this {'CA': 'California', 'NJ': 'New Jersey', 'RI': 'Rhode Island'}. You can research the zip method to help you.\n",
    "list_keys = [\"CA\", \"NJ\", \"RI\"]\n",
    "list_values = [\"California\", \"New Jersey\", \"Rhode Island\"]\n",
    "dictionary = {list_keys[i]: list_values[i] for i in range(len(list_keys))}\n",
    "print(dictionary)\n",
    "\n",
    "# 3. Create a dictionary with the key as a vowel in the alphabet and the value as 0. Your dictionary should look like this {'a': 0, 'e': 0, 'i': 0, 'o': 0, 'u': 0}. (Do not use the fromkeys method).\n",
    "list_keys = \"aeiou\"\n",
    "dictionary = {list_keys[i]: 0 for i in range(len(list_keys))}\n",
    "print(dictionary)\n",
    "\n",
    "# 4. Create a dictionary starting with the key of the position of the letter and the value as the letter in the alphabet. You should return something like this (Hint - use chr(65) to get the first letter):\n",
    "# {1: 'A',\n",
    "#  2: 'B',\n",
    "#  3: 'C',\n",
    "#  4: 'D',\n",
    "#  5: 'E',\n",
    "#  6: 'F',\n",
    "#  7: 'G',\n",
    "#  8: 'H',\n",
    "#  9: 'I',\n",
    "#  10: 'J',\n",
    "#  11: 'K',\n",
    "#  12: 'L',\n",
    "#  13: 'M',\n",
    "#  14: 'N',\n",
    "#  15: 'O',\n",
    "#  16: 'P',\n",
    "#  17: 'Q',\n",
    "#  18: 'R',\n",
    "#  19: 'S',\n",
    "#  20: 'T',\n",
    "#  21: 'U',\n",
    "#  22: 'V',\n",
    "#  23: 'W',\n",
    "#  24: 'X',\n",
    "#  25: 'Y',\n",
    "#  26: 'Z'}\n",
    "list_values = [chr(i) for i in range(65, 91)]\n",
    "dictionary = {i: list_values[i] for i in range(len(list_values))}\n",
    "print(dictionary)\n",
    "\n",
    "# 5. Super Bonus\n",
    "# Given the string “awesome sauce” return a dictionary with the keys as vowels and the values as the count of vowels. Your dictionary should look like {‘a’: 2, ‘e’: 3, ‘i’: 0, ‘o’: 1, ‘u’: 1}\n",
    "string = \"awesome sauce\"\n",
    "vowels = \"aeiou\"\n",
    "dictionary = {\n",
    "    i: string.count(i) for i in vowels\n",
    "    # if i in vowels\n",
    "}\n",
    "print(dictionary)"
   ]
  },
  {
   "cell_type": "code",
   "execution_count": null,
   "id": "b032a072-49eb-4838-9a40-740ad7924b62",
   "metadata": {},
   "outputs": [],
   "source": []
  }
 ],
 "metadata": {
  "kernelspec": {
   "display_name": "Python 3 (ipykernel)",
   "language": "python",
   "name": "python3"
  },
  "language_info": {
   "codemirror_mode": {
    "name": "ipython",
    "version": 3
   },
   "file_extension": ".py",
   "mimetype": "text/x-python",
   "name": "python",
   "nbconvert_exporter": "python",
   "pygments_lexer": "ipython3",
   "version": "3.12.5"
  }
 },
 "nbformat": 4,
 "nbformat_minor": 5
}
