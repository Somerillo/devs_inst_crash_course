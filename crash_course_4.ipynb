{
 "cells": [
  {
   "cell_type": "markdown",
   "id": "f700b133-c093-48e7-b748-2afcc80fed09",
   "metadata": {},
   "source": [
    "🌟 Exercise 1 : Functions Exercises #1\n",
    "Instructions\n",
    "Write the following functions\n",
    "\n",
    "difference\n",
    "\n",
    "this function takes in two parameters and returns the difference between the two\n",
    "difference(2,2) # 0\n",
    "difference(0,2) # -2\n",
    "\n",
    "\n",
    "print_day\n",
    "\n",
    "this function takes in one parameter (a number from 1-7) and returns the day of the week (1 is Sunday, 2 is Monday, 3 is Tuesday etc.). If the number is less than 1 or greater than 7, the function should return None\n",
    "print_day(4) # \"Wednesday\"\n",
    "print_day(41) # None\n",
    "\n",
    "\n",
    "last_element\n",
    "\n",
    "this function takes in one parameter (a list) and returns the last value in the list. It should return None if the list is empty.\n",
    "last_element([1,2,3,4]) # 4\n",
    "last_element([]) # None\n",
    "\n",
    "\n",
    "number_compare\n",
    "\n",
    "this function takes in two parameters (both numbers). If the first is greater than the second, this function returns “First is greater.” If the second number is greater than the first, the function returns “Second is greater.” Otherwise the function returns “Numbers are equal.”\n",
    "number_compare(1,1) # \"Numbers are equal\"\n",
    "number_compare(1,2) # \"Second is greater\"\n",
    "number_compare(2,1) # \"First is greater\"\n",
    "\n",
    "\n",
    "single_letter_count\n",
    "\n",
    "this function takes in two parameters (two strings). The first parameter should be a word and the second should be a letter. The function returns the number of times that letter appears in the word. The function should be case insensitive (does not matter if the input is lowercase or uppercase). If the letter is not found in the word, the function should return 0.\n",
    "single_letter_count('amazing','A') # 2\n",
    "\n",
    "\n",
    "multiple_letter_count\n",
    "\n",
    "this function takes in one parameter (a string) and returns a dictionary with the keys being the letters and the values being the count of the letter.\n",
    "multiple_letter_count(\"hello\") # {h:1, e: 1, l: 2, o:1}\n",
    "multiple_letter_count(\"person\") # {p:1, e: 1, r: 1, s:1, o:1, n:1}\n",
    "\n",
    "\n",
    "list_manipulation\n",
    "\n",
    "this function should take in three parameters (a list, command, location and value).\n",
    "\n",
    "If the command is “remove” and the location is “end”, the function should remove the last value in the list and return the value removed\n",
    "If the command is “remove” and the location is “beginning”, the function should remove the first value in the list and return the value removed\n",
    "If the command is “add” and the location is “beginning”, the function should add the value (fourth parameter) to the beginning of the list and return the list\n",
    "If the command is “add” and the location is “end”, the function should add the value (fourth parameter) to the end of the list and return the list\n",
    "list_manipulation([1,2,3], \"remove\", \"end\") # 3\n",
    "list_manipulation([1,2,3], \"remove\", \"beginning\") # 1\n",
    "list_manipulation([1,2,3], \"add\", \"beginning\", 20) # [20,1,2,3]\n",
    "list_manipulation([1,2,3], \"add\", \"end\", 30) # [1,2,3,30]\n",
    "\n",
    "\n",
    "is_palindrome\n",
    "\n",
    "A Palindrome is a word, phrase, number, or other sequence of characters which reads the same backward or forward. This function should take in one parameter and returns True or False depending on whether it is a palindrome. As a bonus, allow your function to ignore whitespace and capitalization so that is_palindrome('a man a plan a canal Panama') returns True.\n",
    "is_palindrome('testing') # False\n",
    "is_palindrome('tacocat') # True\n",
    "is_palindrome('hannah') # True\n",
    "is_palindrome('robert') # False\n",
    "\n",
    "\n",
    "frequency\n",
    "\n",
    "This function accepts a list and a search_term (this will always be a primitive value) and returns the number of times the search_term appears in the list.\n",
    "frequency([1,2,3,4,4,4], 4) # 3\n",
    "frequency([True, False, True, True], False) # 1\n",
    "\n",
    "\n",
    "flip_case\n",
    "\n",
    "This function accepts a string and a letter and reverses the case of all occurances of the letter in the string.\n",
    "flip_case(\"Hardy har har\", \"h\") # \"hardy Har Har\"\n",
    "\n",
    "\n",
    "multiply_even_numbers\n",
    "\n",
    "This function accepts a list of numbers and returns the product of all even numbers in the list.\n",
    "multiply_even_numbers([2,3,4,5,6]) # 48\n",
    "\n",
    "\n",
    "mode\n",
    "\n",
    "This function accepts a list of numbers and returns the most frequent number in the list of numbers. You can assume that the mode will be unique.\n",
    "mode([2,4,1,2,3,3,4,4,5,4,4,6,4,6,7,4]) # 4\n",
    "\n",
    "\n",
    "capitalize\n",
    "\n",
    "This function accepts a string and returns the same string with the first letter capitalized.\n",
    "capitalize(\"tim\") # \"Tim\"\n",
    "capitalize(\"matt\") # \"Matt\"\n",
    "\n",
    "\n",
    "compact\n",
    "\n",
    "This function accepts a list and returns a list of values that are truthy values.\n",
    "compact([0,1,2,\"\",[], False, {}, None, \"All done\"]) # [1,2, \"All done\"]\n",
    "\n",
    "\n",
    "partition\n",
    "\n",
    "This function accepts a list and a callback function (which you can assume returns True or False). The function should iterate over each element in the list and invoke the callback function at each iteration. If the result of the callback function is True, the element should go into one list if it’s False, the element should go into another list. When it’s finished, partition should return both lists inside of one larger list.\n",
    "def is_even(num):\n",
    "    return num % 2 == 0\n",
    "\n",
    "partition([1,2,3,4], is_even) # [[2,4],[1,3]]\n",
    "\n",
    "\n",
    "intersection\n",
    "\n",
    "This function should accept a two dimensional list and return a list with the values that are the same in each list.\n",
    "intersection([1,2,3], [2,3,4]) # [2,3]\n",
    "\n",
    "\n",
    "once\n",
    "\n",
    "This function accepts a function and returns a new function that can only be invoked once. If the function is invoked more than once, it should return None. Hint you will need to define a new function inside of your once function and return that function. You can add properties to your inner function to see if it has run already.\n",
    "def add(a,b):\n",
    "    return a + b\n",
    "\n",
    "one_addition = once(add)\n",
    "\n",
    "one_addition(2,2) # 4\n",
    "one_addition(2,2) # undefined\n",
    "one_addition(12,200) # undefined\n",
    "\n",
    "\n",
    "Super bonus\n",
    "Research what decorators are and refactor your once code to use a decorator so that you can run\n",
    "\n",
    "@run_once\n",
    "def add(a,b):\n",
    "    return a + b\n",
    "\n",
    "add(2,2) # 4\n",
    "add(2,20) # None\n",
    "add(12,20) # None\n"
   ]
  },
  {
   "cell_type": "code",
   "execution_count": 1,
   "id": "5c0eed97-c5ce-4b16-8126-1ed9ac2e7159",
   "metadata": {},
   "outputs": [
    {
     "data": {
      "text/plain": [
       "24"
      ]
     },
     "execution_count": 1,
     "metadata": {},
     "output_type": "execute_result"
    }
   ],
   "source": [
    "def difference(a, b):\n",
    "    \"\"\"this function takes in two parameters and returns the difference between the two\"\"\"\n",
    "    return a - b\n",
    "\n",
    "x = 36\n",
    "y = 12\n",
    "\n",
    "difference(x, y)"
   ]
  },
  {
   "cell_type": "code",
   "execution_count": 2,
   "id": "f23fce88-b74d-4c43-9fd0-fae3fc3278ad",
   "metadata": {},
   "outputs": [
    {
     "data": {
      "text/plain": [
       "'Wednesday'"
      ]
     },
     "execution_count": 2,
     "metadata": {},
     "output_type": "execute_result"
    }
   ],
   "source": [
    "import random\n",
    "\n",
    "list_days = [\"Sunday\", \"Monday\", \"Tuesday\", \"Wednesday\", \"Thursday\", \"Friday\", \"Saturday\"]\n",
    "parameter = 4\n",
    "# parameter = random.randint(1, 14)\n",
    "\n",
    "def print_day():\n",
    "    \"\"\"\n",
    "    this function takes in one parameter (a number from 1-7) and returns the day of the week \n",
    "    (1 is Sunday, 2 is Monday, 3 is Tuesday etc.). If the number is less than 1 or greater \n",
    "    than 7, the function should return None\n",
    "    \"\"\"\n",
    "    return list_days[parameter - 1] if 0 < parameter < 8 else None\n",
    "\n",
    "# print_day(4) # \"Wednesday\"\n",
    "# print_day(41) # None\n",
    "print_day()"
   ]
  },
  {
   "cell_type": "code",
   "execution_count": 3,
   "id": "94efc9a6-df46-4198-958a-1e523b44d26a",
   "metadata": {},
   "outputs": [
    {
     "data": {
      "text/plain": [
       "4"
      ]
     },
     "execution_count": 3,
     "metadata": {},
     "output_type": "execute_result"
    }
   ],
   "source": [
    "def last_element(a):\n",
    "    \"\"\"\n",
    "    this function takes in one parameter (a list) and returns the last value in the list. It should return None if the list is empty.\n",
    "    \"\"\"\n",
    "    return a[-1] if a else None\n",
    "\n",
    "# last_element([1,2,3,4]) # 4\n",
    "# last_element([]) # None\n",
    "\n",
    "last_element([1,2,3,4])"
   ]
  },
  {
   "cell_type": "code",
   "execution_count": 4,
   "id": "d4094615-70e8-4760-95db-678cae0e1307",
   "metadata": {},
   "outputs": [
    {
     "data": {
      "text/plain": [
       "'First is greater'"
      ]
     },
     "execution_count": 4,
     "metadata": {},
     "output_type": "execute_result"
    }
   ],
   "source": [
    "def number_compare(a, b):\n",
    "    \"\"\"this function takes in two parameters (both numbers). If the first is greater than the second, \n",
    "    this function returns “First is greater.” If the second number is greater than the first, \n",
    "    the function returns “Second is greater.” Otherwise the function returns “Numbers are equal.”\n",
    "    \"\"\"\n",
    "    if a == b:\n",
    "        return \"Numbers are equal\"\n",
    "    elif a < b:\n",
    "        return \"Second is greater\"\n",
    "    else:\n",
    "        return \"First is greater\"\n",
    "\n",
    "# number_compare(1,1) # \"Numbers are equal\"\n",
    "# number_compare(1,2) # \"Second is greater\"\n",
    "number_compare(2,1) # \"First is greater\""
   ]
  },
  {
   "cell_type": "code",
   "execution_count": 5,
   "id": "1a8f0de0-71e6-421d-8dca-ba8166093c1c",
   "metadata": {},
   "outputs": [
    {
     "data": {
      "text/plain": [
       "2"
      ]
     },
     "execution_count": 5,
     "metadata": {},
     "output_type": "execute_result"
    }
   ],
   "source": [
    "def single_letter_count(a, b):\n",
    "    \"\"\"\n",
    "    this function takes in two parameters (two strings). The first parameter should be a word and the second should be a letter. \n",
    "    The function returns the number of times that letter appears in the word. The function should be case insensitive \n",
    "    (does not matter if the input is lowercase or uppercase). If the letter is not found in the word, the function should return 0.\n",
    "    \"\"\"\n",
    "    word = a.lower()\n",
    "    letter = b.lower()\n",
    "    return word.count(letter)\n",
    "\n",
    "single_letter_count('amazing','A') # 2"
   ]
  },
  {
   "cell_type": "code",
   "execution_count": 6,
   "id": "9049d888-c183-4f2f-8f95-e484faf819ed",
   "metadata": {},
   "outputs": [
    {
     "data": {
      "text/plain": [
       "{'h': 1, 'e': 1, 'l': 2, 'o': 1}"
      ]
     },
     "execution_count": 6,
     "metadata": {},
     "output_type": "execute_result"
    }
   ],
   "source": [
    "def multiple_letter_count(a):\n",
    "    \"\"\"\n",
    "    this function takes in one parameter (a string) and returns a dictionary \n",
    "    with the keys being the letters and the values being the count of the letter.\n",
    "    \"\"\"\n",
    "    a = a.lower()\n",
    "\n",
    "    # to keep the order, we first remove repeated characters\n",
    "    no_repeated = ''.join(dict.fromkeys(a))\n",
    "    \n",
    "    return {char: a.count(char) for char in no_repeated}\n",
    "\n",
    "multiple_letter_count(\"hello\") # {h:1, e: 1, l: 2, o:1}\n",
    "# multiple_letter_count(\"person\") # {p:1, e: 1, r: 1, s:1, o:1, n:1}"
   ]
  },
  {
   "cell_type": "code",
   "execution_count": 7,
   "id": "3e46ff70-e428-4143-9c08-1b541ccc16e4",
   "metadata": {},
   "outputs": [
    {
     "data": {
      "text/plain": [
       "[20, 1, 2, 3]"
      ]
     },
     "execution_count": 7,
     "metadata": {},
     "output_type": "execute_result"
    }
   ],
   "source": [
    "def list_manipulation(list_input, command, location, value = None):\n",
    "    \"\"\"\n",
    "    this function should take in three parameters (a list, command, location and value).\n",
    "    \n",
    "    If the command is “remove” and the location is “end”, the function should remove the last value in the list and return the value removed\n",
    "    If the command is “remove” and the location is “beginning”, the function should remove the first value in the list and return the value removed\n",
    "    If the command is “add” and the location is “beginning”, the function should add the value (fourth parameter) to the beginning of the list and return the list\n",
    "    If the command is “add” and the location is “end”, the function should add the value (fourth parameter) to the end of the list and return the list\n",
    "    \"\"\"\n",
    "    if command == \"remove\":\n",
    "        if location == \"end\":\n",
    "            return list_input.pop(-1)\n",
    "        elif location == \"beginning\":\n",
    "            return list_input.pop(0)\n",
    "        else:\n",
    "            print(\"error, choose beginning or end of the list\")\n",
    "\n",
    "    elif command == \"add\":\n",
    "        if location == \"beginning\":\n",
    "            list_input.insert(0, value)\n",
    "        elif location == \"end\":\n",
    "            list_input.append(value)\n",
    "        else:\n",
    "            print(\"error, choose beginning or end of the list\")\n",
    "        return list_input\n",
    "            \n",
    "\n",
    "\n",
    "# list_manipulation([1,2,3], \"remove\", \"end\") # 3\n",
    "# list_manipulation([1,2,3], \"remove\", \"beginning\") # 1\n",
    "list_manipulation([1,2,3], \"add\", \"beginning\", 20) # [20,1,2,3]\n",
    "# list_manipulation([1,2,3], \"add\", \"end\", 30) # [1,2,3,30]"
   ]
  },
  {
   "cell_type": "code",
   "execution_count": 8,
   "id": "f59fd757-a9b2-4200-808f-9241877bd7e0",
   "metadata": {},
   "outputs": [
    {
     "data": {
      "text/plain": [
       "False"
      ]
     },
     "execution_count": 8,
     "metadata": {},
     "output_type": "execute_result"
    }
   ],
   "source": [
    "def is_palindrome(a):\n",
    "    \"\"\"\n",
    "    A Palindrome is a word, phrase, number, or other sequence of characters which reads the same backward or forward. \n",
    "    This function should take in one parameter and returns True or False depending on whether it is a palindrome. \n",
    "    As a bonus, allow your function to ignore whitespace and capitalization so that \n",
    "    is_palindrome('a man a plan a canal Panama') returns True.\n",
    "    \"\"\"\n",
    "    a = a.lower()\n",
    "    char_num = len(a) # we need to count the characters for the simmetry in the for loops\n",
    "\n",
    "    for char in range(len(a)//2): # we use integer division to loop over half the string\n",
    "        if a[char] != a[-(char + 1)]:\n",
    "            return False\n",
    "            break\n",
    "    else:\n",
    "        return True\n",
    "\n",
    "# is_palindrome('testing') # False\n",
    "# is_palindrome('tacocat') # True\n",
    "# is_palindrome('hannah') # True\n",
    "is_palindrome('robert') # False"
   ]
  },
  {
   "cell_type": "code",
   "execution_count": 9,
   "id": "99ac4ec0-4238-40de-8e62-8a7ee56372aa",
   "metadata": {},
   "outputs": [
    {
     "data": {
      "text/plain": [
       "1"
      ]
     },
     "execution_count": 9,
     "metadata": {},
     "output_type": "execute_result"
    }
   ],
   "source": [
    "def frequency(list_input, search_term):\n",
    "    \"\"\"\n",
    "    This function accepts a list and a search_term (this will always be a primitive value) \n",
    "    and returns the number of times the search_term appears in the list.\n",
    "    \"\"\"\n",
    "    # we first remove repeated characters\n",
    "    no_repeated = set(list_input)\n",
    "\n",
    "    # we create a dictionary using each element as a key, and counting it\n",
    "    list_elements = {char: list_input.count(char) for char in no_repeated}\n",
    "\n",
    "    return list_elements[search_term]\n",
    "\n",
    "\n",
    "\n",
    "frequency([1,2,3,4,4,4], 4) # 3\n",
    "frequency([True, False, True, True], False) # 1"
   ]
  },
  {
   "cell_type": "code",
   "execution_count": 10,
   "id": "ce3b477d-86d5-4c70-8dff-3475966a4631",
   "metadata": {},
   "outputs": [
    {
     "data": {
      "text/plain": [
       "'hardy Har Har'"
      ]
     },
     "execution_count": 10,
     "metadata": {},
     "output_type": "execute_result"
    }
   ],
   "source": [
    "def flip_case(string, char):\n",
    "    \"\"\"\n",
    "    This function accepts a string and a letter and reverses the case of all occurances of the letter in the string.\n",
    "    \"\"\"\n",
    "    # first we obtain the character uppercase and lowercase\n",
    "    char_upper = char.upper()\n",
    "    char_lower = char.lower()\n",
    "\n",
    "    # we build a new string with the flipped letter\n",
    "    if (char_upper or char_lower) in string:\n",
    "        new_string = \"\"\n",
    "        \n",
    "        for i in string:\n",
    "            if i == char_upper:\n",
    "                new_string += char_lower\n",
    "            elif i == char_lower:\n",
    "                new_string += char_upper\n",
    "            else:\n",
    "                new_string += i\n",
    "        return new_string\n",
    "        \n",
    "    else:\n",
    "        print(f\"{char} is not in string\")\n",
    "    \n",
    "    \n",
    "flip_case(\"Hardy har har\", \"h\") # \"hardy Har Har\""
   ]
  },
  {
   "cell_type": "code",
   "execution_count": 11,
   "id": "44fce354-4c55-45c0-8e72-4c2d9ea51b74",
   "metadata": {},
   "outputs": [
    {
     "data": {
      "text/plain": [
       "48"
      ]
     },
     "execution_count": 11,
     "metadata": {},
     "output_type": "execute_result"
    }
   ],
   "source": [
    "def multiply_even_numbers(list_input):\n",
    "    \"\"\"\n",
    "    This function accepts a list of numbers and returns the product of all even numbers in the list.\n",
    "    \"\"\"\n",
    "    output = 1\n",
    "    found_even = False # we'll check if there's an even value\n",
    "    \n",
    "    for i in list_input:\n",
    "        if i % 2 == 0:\n",
    "            output *= i\n",
    "            found_even = True\n",
    "    return output if found_even else 0\n",
    "\n",
    "multiply_even_numbers([2,3,4,5,6]) # 48"
   ]
  },
  {
   "cell_type": "code",
   "execution_count": 12,
   "id": "786f8db4-4542-4861-8c78-ef8577f12f02",
   "metadata": {},
   "outputs": [
    {
     "data": {
      "text/plain": [
       "4"
      ]
     },
     "execution_count": 12,
     "metadata": {},
     "output_type": "execute_result"
    }
   ],
   "source": [
    "def mode(list_input):\n",
    "    \"\"\"\n",
    "    This function accepts a list of numbers and returns the most frequent number in the list of numbers. You can assume that the mode will be unique.\n",
    "    \"\"\"\n",
    "    # we first create a set of the elements of the list\n",
    "    no_repeated = set(list_input)\n",
    "\n",
    "    # we create a dictionary using each element as a key, then we count its repetitions\n",
    "    list_elements = {element: list_input.count(element) for element in no_repeated}\n",
    "\n",
    "    # now we take the mode as the key with the highest value\n",
    "    num = 0\n",
    "    for key in list_elements:\n",
    "        if num < list_elements[key]:\n",
    "            num = list_elements[key]\n",
    "            index = key\n",
    "    return index\n",
    "\n",
    "mode([2,4,1,2,3,3,4,4,5,4,4,6,4,6,7,4]) # 4"
   ]
  },
  {
   "cell_type": "code",
   "execution_count": 13,
   "id": "d2afaeea-2f52-4ea6-b393-bf618b98959c",
   "metadata": {},
   "outputs": [
    {
     "data": {
      "text/plain": [
       "'Matt'"
      ]
     },
     "execution_count": 13,
     "metadata": {},
     "output_type": "execute_result"
    }
   ],
   "source": [
    "def capitalize(string):\n",
    "    \"\"\"\n",
    "    This function accepts a string and returns the same string with the first letter capitalized.\n",
    "    \"\"\"\n",
    "    # a string is immutable so we convert the string to a list of characters, then replace the 1st character\n",
    "    list_string = list(string)\n",
    "    list_string[0] = list_string[0].upper()\n",
    "\n",
    "    # now we convert the list to a string again\n",
    "    return ''.join(list_string)\n",
    "    \n",
    "    \n",
    "capitalize(\"tim\") # \"Tim\"\n",
    "capitalize(\"matt\") # \"Matt\""
   ]
  },
  {
   "cell_type": "code",
   "execution_count": 14,
   "id": "34afa684-5fd0-464b-8d70-bddfaac67a78",
   "metadata": {},
   "outputs": [
    {
     "data": {
      "text/plain": [
       "[1, 2, 'All done']"
      ]
     },
     "execution_count": 14,
     "metadata": {},
     "output_type": "execute_result"
    }
   ],
   "source": [
    "def compact(list_input):\n",
    "    \"\"\"\n",
    "    This function accepts a list and returns a list of values that are truthy values.\n",
    "    \"\"\"\n",
    "    return [element for element in list_input if element]\n",
    "\n",
    "\n",
    "    \n",
    "compact([0,1,2,\"\",[], False, {}, None, \"All done\"]) # [1,2, \"All done\"]"
   ]
  },
  {
   "cell_type": "code",
   "execution_count": 15,
   "id": "8c701615-a6b0-4442-a718-f49d3409ab83",
   "metadata": {},
   "outputs": [
    {
     "data": {
      "text/plain": [
       "list[[2, 4], [1, 3]]"
      ]
     },
     "execution_count": 15,
     "metadata": {},
     "output_type": "execute_result"
    }
   ],
   "source": [
    "def is_even(num):\n",
    "    return num % 2 == 0\n",
    "\n",
    "def partition(list_input, is_even):\n",
    "    \"\"\"\n",
    "    This function accepts a list and a callback function (which you can assume returns True or False). \n",
    "    The function should iterate over each element in the list and invoke the callback function at each iteration. \n",
    "    If the result of the callback function is True, the element should go into one list if it’s False, \n",
    "    the element should go into another list. When it’s finished, partition should return both lists inside of one larger list.\n",
    "    \n",
    "    def is_even(num):\n",
    "        return num % 2 == 0\n",
    "        \n",
    "    \"\"\"\n",
    "    list_even = [i for i in list_input if is_even(i)]\n",
    "    list_odd = [i for i in list_input if not is_even(i)]\n",
    "    return list[list_even, list_odd]\n",
    "\n",
    "\n",
    "partition([1,2,3,4], is_even) # [[2,4],[1,3]]"
   ]
  },
  {
   "cell_type": "code",
   "execution_count": 16,
   "id": "f0baa27e-a7a3-4a54-a02a-38f94baf24c4",
   "metadata": {},
   "outputs": [
    {
     "data": {
      "text/plain": [
       "[2, 3]"
      ]
     },
     "execution_count": 16,
     "metadata": {},
     "output_type": "execute_result"
    }
   ],
   "source": [
    "def intersection(list_1, list_2):\n",
    "    \"\"\"\n",
    "    This function should accept a two dimensional list and return a list with the values that are the same in each list. \n",
    "    \"\"\"\n",
    "    return [x for x in list_1 if x in list_2]\n",
    "\n",
    "\n",
    "intersection([1,2,3], [2,3,4]) # [2,3]"
   ]
  },
  {
   "cell_type": "code",
   "execution_count": 17,
   "id": "6942cfc7-dde5-4d4d-9403-c5c6ddbd6a15",
   "metadata": {},
   "outputs": [
    {
     "name": "stdout",
     "output_type": "stream",
     "text": [
      "4\n",
      "None\n",
      "None\n"
     ]
    }
   ],
   "source": [
    "def once(func):\n",
    "    \"\"\"\n",
    "    This function accepts a function and returns a new function that can only be invoked once. \n",
    "    If the function is invoked more than once, it should return None. \n",
    "    Hint you will need to define a new function inside of your once function and return that function. \n",
    "    You can add properties to your inner function to see if it has run already. def add(a,b): return a + b\n",
    "    \n",
    "    one_addition = once(add)\n",
    "    \"\"\"\n",
    "    # we build a inner function to take any external function, and a flag of already run\n",
    "    def inner_func(*args, **kwargs):\n",
    "        if not inner_func.has_run:\n",
    "            inner_func.has_run = True\n",
    "            return func(*args, **kwargs)\n",
    "        else:\n",
    "            return None\n",
    "\n",
    "    # we modify the inner attribute to flag that its been run\n",
    "    inner_func.has_run = False\n",
    "    return inner_func\n",
    "\n",
    "\n",
    "# test function\n",
    "def add(a, b):\n",
    "    return a + b\n",
    "\n",
    "# use the once function to create a version of add that can only be run once\n",
    "one_addition = once(add)\n",
    "\n",
    "# Test cases\n",
    "print(one_addition(2, 2))  # 4\n",
    "print(one_addition(2, 2))  # None\n",
    "print(one_addition(12, 200))  # None"
   ]
  },
  {
   "cell_type": "code",
   "execution_count": 18,
   "id": "311da06c-3495-4711-9078-27d8165a683d",
   "metadata": {},
   "outputs": [],
   "source": [
    "#Super bonus Research what decorators are and refactor your once code to use a decorator so that you can run\n",
    "\n",
    "@once\n",
    "\n",
    "def add(a,b):\n",
    "    return a + b\n",
    "\n",
    "add(2,2) # 4 \n",
    "add(2,20) # None \n",
    "add(12,20) # None"
   ]
  },
  {
   "cell_type": "markdown",
   "id": "19c73daf-c77e-47e7-8935-19010dabf1d0",
   "metadata": {},
   "source": [
    "🌟 Exercise 2 : Functions Exercises#2\n",
    "\n",
    "Instructions\n",
    "\n",
    "Complete the following Codewars problems:\n",
    "\n",
    "* [Reversed Strings](https://www.codewars.com/kata/reversed-strings)\n",
    "\n",
    "* [Looking for a benefactor](https://www.codewars.com/kata/looking-for-a-benefactor)\n",
    "\n",
    "* [Sum of a sequence](https://www.codewars.com/kata/sum-of-a-sequence/)\n",
    "\n",
    "* [Max diff](https://www.codewars.com/kata/max-diff-easy-1/python)\n",
    "\n",
    "* [Count the similey faces!](https://www.codewars.com/kata/583203e6eb35d7980400002a/)\n",
    "\n",
    "* [Sentence Count](https://www.codewars.com/kata/sentence-count)\n",
    "\n",
    "* [Tortoise Racing](https://www.codewars.com/kata/tortoise-racing)\n",
    "\n",
    "*  [Calculate String Rotation](https://www.codewars.com/kata/calculate-string-rotation)"
   ]
  },
  {
   "cell_type": "code",
   "execution_count": 19,
   "id": "049b871c-7cef-484b-821f-062a8f7a52ac",
   "metadata": {},
   "outputs": [
    {
     "data": {
      "text/plain": [
       "'drow'"
      ]
     },
     "execution_count": 19,
     "metadata": {},
     "output_type": "execute_result"
    }
   ],
   "source": [
    "def reversed_strings(string):\n",
    "    \"\"\"\n",
    "    Complete the solution so that it reverses the string passed into it.\n",
    "\n",
    "    'world'  =>  'dlrow'\n",
    "    'word'   =>  'drow'\n",
    "\n",
    "    \"\"\"\n",
    "    \n",
    "    return string[::-1]\n",
    "\n",
    "reversed_strings(\"world\")\n",
    "reversed_strings(\"word\")"
   ]
  },
  {
   "cell_type": "code",
   "execution_count": 20,
   "id": "bca43050-df6a-482a-94bf-69c2ac183d64",
   "metadata": {},
   "outputs": [
    {
     "name": "stdout",
     "output_type": "stream",
     "text": [
      "645\n"
     ]
    },
    {
     "ename": "ValueError",
     "evalue": "Donation mus be greater than 0!!! you scrudge",
     "output_type": "error",
     "traceback": [
      "\u001b[1;31m---------------------------------------------------------------------------\u001b[0m",
      "\u001b[1;31mValueError\u001b[0m                                Traceback (most recent call last)",
      "Cell \u001b[1;32mIn[20], line 13\u001b[0m\n\u001b[0;32m     10\u001b[0m     \u001b[38;5;28;01mreturn\u001b[39;00m \u001b[38;5;28mround\u001b[39m(new_donation)\n\u001b[0;32m     12\u001b[0m \u001b[38;5;28mprint\u001b[39m(new_avg([\u001b[38;5;241m14\u001b[39m, \u001b[38;5;241m30\u001b[39m, \u001b[38;5;241m5\u001b[39m, \u001b[38;5;241m7\u001b[39m, \u001b[38;5;241m9\u001b[39m, \u001b[38;5;241m11\u001b[39m, \u001b[38;5;241m15\u001b[39m], \u001b[38;5;241m92\u001b[39m)) \u001b[38;5;66;03m# should return 645\u001b[39;00m\n\u001b[1;32m---> 13\u001b[0m \u001b[38;5;28mprint\u001b[39m(new_avg([\u001b[38;5;241m14\u001b[39m, \u001b[38;5;241m30\u001b[39m, \u001b[38;5;241m5\u001b[39m, \u001b[38;5;241m7\u001b[39m, \u001b[38;5;241m9\u001b[39m, \u001b[38;5;241m11\u001b[39m, \u001b[38;5;241m15\u001b[39m], \u001b[38;5;241m2\u001b[39m))\n",
      "Cell \u001b[1;32mIn[20], line 8\u001b[0m, in \u001b[0;36mnew_avg\u001b[1;34m(arr, navg)\u001b[0m\n\u001b[0;32m      6\u001b[0m \u001b[38;5;66;03m# we check if the donation is > 0\u001b[39;00m\n\u001b[0;32m      7\u001b[0m \u001b[38;5;28;01mif\u001b[39;00m new_donation \u001b[38;5;241m<\u001b[39m\u001b[38;5;241m=\u001b[39m \u001b[38;5;241m0\u001b[39m:\n\u001b[1;32m----> 8\u001b[0m     \u001b[38;5;28;01mraise\u001b[39;00m \u001b[38;5;167;01mValueError\u001b[39;00m(\u001b[38;5;124m\"\u001b[39m\u001b[38;5;124mDonation mus be greater than 0!!! you scrudge\u001b[39m\u001b[38;5;124m\"\u001b[39m)\n\u001b[0;32m     10\u001b[0m \u001b[38;5;28;01mreturn\u001b[39;00m \u001b[38;5;28mround\u001b[39m(new_donation)\n",
      "\u001b[1;31mValueError\u001b[0m: Donation mus be greater than 0!!! you scrudge"
     ]
    }
   ],
   "source": [
    "def new_avg(arr, navg):\n",
    "    current_sum = sum(arr)\n",
    "    required = navg * (len(arr) + 1) # required total to reach the desired avg\n",
    "    new_donation = required - current_sum # amount of donation we need\n",
    "\n",
    "    # we check if the donation is > 0\n",
    "    if new_donation <= 0:\n",
    "        raise ValueError(\"Donation mus be greater than 0!!! you scrudge\")\n",
    "\n",
    "    return round(new_donation)\n",
    "\n",
    "print(new_avg([14, 30, 5, 7, 9, 11, 15], 92)) # should return 645\n",
    "print(new_avg([14, 30, 5, 7, 9, 11, 15], 2)) # should raise an error (ValueError or invalid_argument or argument-error or DomainError or ... )"
   ]
  },
  {
   "cell_type": "code",
   "execution_count": 21,
   "id": "f3d4a6c5-c7c1-4a85-a4c9-8aa657c390ca",
   "metadata": {},
   "outputs": [
    {
     "name": "stdout",
     "output_type": "stream",
     "text": [
      "2\n",
      "12\n",
      "15\n",
      "5\n"
     ]
    }
   ],
   "source": [
    "def sum_of_a_sequence(begin, end, step):\n",
    "    if begin > end:\n",
    "        return 0\n",
    "\n",
    "    else:\n",
    "        total = 0\n",
    "        for i in range(begin, end +1, step):\n",
    "            total += i\n",
    "        return total\n",
    "\n",
    "print(sum_of_a_sequence(2, 2, 2))  # Output: 2\n",
    "print(sum_of_a_sequence(2, 6, 2))  # Output: 12 (2 + 4 + 6)\n",
    "print(sum_of_a_sequence(1, 5, 1))  # Output: 15 (1 + 2 + 3 + 4 + 5)\n",
    "print(sum_of_a_sequence(1, 5, 3))  # Output: 5 (1 + 4)"
   ]
  },
  {
   "cell_type": "code",
   "execution_count": 22,
   "id": "80986e83-97cd-40c1-a406-cab05261c82d",
   "metadata": {},
   "outputs": [
    {
     "name": "stdout",
     "output_type": "stream",
     "text": [
      "3\n",
      "7\n",
      "0\n",
      "0\n"
     ]
    }
   ],
   "source": [
    "def max_diff(lst):\n",
    "    if len(lst) < 1:\n",
    "        return 0\n",
    "    else:\n",
    "        difference = max(lst) - min(lst)\n",
    "        return difference\n",
    "\n",
    "print(max_diff([1, 2, 3, 4]))       # returns 3 because 4 -   1  == 3\n",
    "print(max_diff([1, 2, 3, -4]))      # returns 7 because 3 - (-4) == 7\n",
    "print(max_diff([]))                  # 0\n",
    "print(max_diff([42]))                 # 0"
   ]
  },
  {
   "cell_type": "code",
   "execution_count": 23,
   "id": "02c0686a-900d-4ddd-b5ed-70083e94043d",
   "metadata": {},
   "outputs": [
    {
     "name": "stdout",
     "output_type": "stream",
     "text": [
      "2\n",
      "3\n",
      "1\n"
     ]
    }
   ],
   "source": [
    "def countSmileys(arr):\n",
    "    \"\"\"\n",
    "    Given an array (arr) as an argument complete the function countSmileys that should return the total number of smiling faces.\n",
    "\n",
    "    Rules for a smiling face:\n",
    "\n",
    "    Each smiley face must contain a valid pair of eyes. Eyes can be marked as : or ;\n",
    "    A smiley face can have a nose but it does not have to. Valid characters for a nose are - or ~\n",
    "    Every smiling face must have a smiling mouth that should be marked with either ) or D\n",
    "\n",
    "    No additional characters are allowed except for those mentioned.\n",
    "    \n",
    "    Valid smiley face examples: :) :D ;-D :~)\n",
    "    Invalid smiley faces: ;( :> :} :]\n",
    "    \"\"\"\n",
    "    # face parts\n",
    "    eyes = [\":\", \";\"]\n",
    "    nose = [\"-\", \"~\"]\n",
    "    mouth = [\")\", \"D\"]\n",
    "\n",
    "    k = 0\n",
    "\n",
    "    for i in arr:\n",
    "        if len(i) == 2:\n",
    "            if i[0] in eyes and i[1] in mouth:\n",
    "                k += 1\n",
    "        elif len(i) == 3:\n",
    "            if i[0] in eyes and i[1] in nose and i[2] in mouth:\n",
    "                k += 1\n",
    "\n",
    "    return k\n",
    "\n",
    "print(countSmileys([':)', ';(', ';}', ':-D']))       # should return 2;\n",
    "print(countSmileys([';D', ':-(', ':-)', ';~)']))     # should return 3;\n",
    "print(countSmileys([';]', ':[', ';*', ':$', ';-D'])) # should return 1;"
   ]
  },
  {
   "cell_type": "code",
   "execution_count": 24,
   "id": "26db76ae-6875-4fd4-ad6e-a0e4d58d6001",
   "metadata": {},
   "outputs": [
    {
     "data": {
      "text/plain": [
       "4"
      ]
     },
     "execution_count": 24,
     "metadata": {},
     "output_type": "execute_result"
    }
   ],
   "source": [
    "def sentenceCount(string):\n",
    "    \"\"\"\n",
    "    Create a function that will tell how many sentences are in a paragraph, based on the number of periods \".\",\n",
    "    question marks \"?\" and \"!\" exclamation points that an input string contains. \n",
    "    \"\"\"\n",
    "    periods = string.count(\".\")\n",
    "    questions = string.count(\"?\")\n",
    "    exclamations = string.count(\"!\")\n",
    "\n",
    "    return periods + questions + exclamations\n",
    "\n",
    "paragraph = \"Create a function that will tell how many sentences are in a paragraph, based on the number of periods ., question marks ? and ! exclamation points that an input string contains.\"\n",
    "\n",
    "sentenceCount(paragraph)"
   ]
  },
  {
   "cell_type": "code",
   "execution_count": 28,
   "id": "72156df6-118a-4ef4-ab9d-a059dcd45fd7",
   "metadata": {},
   "outputs": [
    {
     "name": "stdout",
     "output_type": "stream",
     "text": [
      "[0, 32, 18]\n",
      "[3, 21, 49]\n"
     ]
    }
   ],
   "source": [
    "def race(v1, v2, x):\n",
    "    \"\"\"\n",
    "    calculate the time it will take for B to catch A in hours, minutes, and seconds.\n",
    "    \n",
    "    v1: speed of tortoise A in feet per hour, integer > 0\n",
    "    v2: speed of tortoise B in feet per hour, integer > 0 & > v1\n",
    "    x: lead distance\n",
    "\n",
    "    the funtion returns the time for B to catch A or [-1, -1, -1] if B cannot catch A\n",
    "    \"\"\"\n",
    "    # if v2 <= v1 then B cant catch A\n",
    "    if v2 <= v1:\n",
    "        return [-1, -1, -1]\n",
    "\n",
    "    # real time for B to catch A\n",
    "    total_time = x / (v2 - v1)\n",
    "\n",
    "    # fractionated time\n",
    "    hours = int(total_time)\n",
    "    total_minutes = (total_time - hours) * 60 # multiply the fraction for 60 to get minutes\n",
    "    minutes = int(total_minutes)\n",
    "    total_seconds = (total_minutes - minutes) * 60 # same argument as before\n",
    "    seconds = int(total_seconds)\n",
    "\n",
    "    return [hours, minutes, seconds]\n",
    "\n",
    "\n",
    "print(race(720, 850, 70)) # [0, 32, 18] or \"0 32 18\"\n",
    "print(race(80, 91, 37))   # [3, 21, 49] or \"3 21 49\""
   ]
  },
  {
   "cell_type": "code",
   "execution_count": 41,
   "id": "91bb08e5-0842-4362-b5a4-91763b0b518d",
   "metadata": {},
   "outputs": [
    {
     "name": "stdout",
     "output_type": "stream",
     "text": [
      "2\n",
      "4\n",
      "-1\n",
      "2\n",
      "0\n",
      "-1\n"
     ]
    }
   ],
   "source": [
    "def stringRotation(str1, str2):\n",
    "    \"\"\"\n",
    "    a function that receives two strings and returns n, where n is equal to the number of \n",
    "    characters we should shift the first string forward to match the second. The check should be case sensitive.\n",
    "\n",
    "    For instance, take the strings \"fatigue\" and \"tiguefa\". In this case, the first string has been rotated 5 \n",
    "    characters forward to produce the second string, so 5 would be returned.\n",
    "    \n",
    "    If the second string isn't a valid rotation of the first string, the method returns -1. \n",
    "    \"\"\"\n",
    "    if len(str1) != len(str2):\n",
    "        return -1\n",
    "\n",
    "    # trivial solution\n",
    "    if str1 == str2:\n",
    "        return 0\n",
    "        \n",
    "    # if we concatenate str1 with itself then we get all possible rotations!!!\n",
    "    concat = str1 + str1\n",
    "\n",
    "    # now the position of str2 in `concat` will give us the rotations :)\n",
    "    rot = concat.find(str2)\n",
    "    \n",
    "    # If the second string isn't a valid rotation of the first string, the method returns -1.\n",
    "    # also we need to correct the `rot` factor, for its len(str1) - 1 !!!!!!IMPORTANT!!!!!\n",
    "    return (len(str1) - rot) if rot != -1 else -1\n",
    "\n",
    "\n",
    "print(stringRotation(\"coffee\", \"eecoff\")) # 2\n",
    "print(stringRotation(\"eecoff\", \"coffee\")) # 4\n",
    "print(stringRotation(\"moose\", \"Moose\")) # -1\n",
    "print(stringRotation(\"isn't\", \"'tisn\")) # 2\n",
    "print(stringRotation(\"Esham\", \"Esham\")) # 0\n",
    "print(stringRotation(\"dog\", \"god\")) # -1"
   ]
  },
  {
   "cell_type": "code",
   "execution_count": null,
   "id": "a56cf4a5-04b0-497b-9208-39369cf09606",
   "metadata": {},
   "outputs": [],
   "source": []
  }
 ],
 "metadata": {
  "kernelspec": {
   "display_name": "Python 3 (ipykernel)",
   "language": "python",
   "name": "python3"
  },
  "language_info": {
   "codemirror_mode": {
    "name": "ipython",
    "version": 3
   },
   "file_extension": ".py",
   "mimetype": "text/x-python",
   "name": "python",
   "nbconvert_exporter": "python",
   "pygments_lexer": "ipython3",
   "version": "3.12.5"
  }
 },
 "nbformat": 4,
 "nbformat_minor": 5
}
