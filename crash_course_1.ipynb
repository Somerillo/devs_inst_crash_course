{
 "cells": [
  {
   "cell_type": "code",
   "execution_count": 1,
   "id": "d5779728-55f7-4f00-b128-26a6ff653ed6",
   "metadata": {},
   "outputs": [
    {
     "name": "stdout",
     "output_type": "stream",
     "text": [
      "Hello World\n",
      "I AM A COMPUTER!\n",
      "Math is fun.\n",
      "None\n",
      "False\n",
      "17\n",
      "I AM SHOUTING\n",
      "1000\n",
      "4real\n",
      "coolcoolcool\n",
      "ZeroDivisionError\n",
      "<class 'list'>\n"
     ]
    },
    {
     "name": "stdin",
     "output_type": "stream",
     "text": [
      "name? lol\n",
      "Pick a number 000.\n"
     ]
    },
    {
     "name": "stdout",
     "output_type": "stream",
     "text": [
      "You picked 0!\n",
      "3\n",
      "True\n",
      "True\n"
     ]
    }
   ],
   "source": [
    "# 1\n",
    "first = \"Hello World\"\n",
    "print(first)\n",
    "\n",
    "# 2\n",
    "# \"This is a comment.\"\n",
    "\n",
    "# 3\n",
    "print(\"I AM A COMPUTER!\")\n",
    "\n",
    "# 4\n",
    "if 1<2<4:\n",
    "    print(\"Math is fun.\")\n",
    "\n",
    "# 5\n",
    "nope = None\n",
    "print(nope)\n",
    "\n",
    "# 6\n",
    "True & False\n",
    "print(True & False)\n",
    "\n",
    "# 7\n",
    "len(\"what's my length?\")\n",
    "print(len(\"what's my length?\"))\n",
    "\n",
    "# 8\n",
    "\"i am shouting\".upper()\n",
    "print(\"i am shouting\".upper())\n",
    "\n",
    "# 9\n",
    "int(\"1000\")\n",
    "print(int(\"1000\"))\n",
    "\n",
    "# 10\n",
    "str(4) + \"real\"\n",
    "print(str(4) + \"real\")\n",
    "\n",
    "# 11\n",
    "\"coolcoolcool\"\n",
    "print(3 * \"cool\")\n",
    "\n",
    "# 12\n",
    "ZeroDivisionError\n",
    "print(\"ZeroDivisionError\")\n",
    "\n",
    "# 13\n",
    "type([])\n",
    "print(type([]))\n",
    "\n",
    "# 14\n",
    "name = input(\"name?\")\n",
    "\n",
    "# 15\n",
    "number = float(input(\"Pick a number\"))\n",
    "if number < 0:\n",
    "    print(\"That number is less than 0!\")\n",
    "elif number > 0: \n",
    "    print(\"That number is greater than 0!\")\n",
    "else:\n",
    "    print(\"You picked 0!\")\n",
    "\n",
    "# 16\n",
    "\"apple\".find(\"l\")\n",
    "print(\"apple\".find(\"l\"))\n",
    "\n",
    "# 17\n",
    "\"y\" in \"xylophone\"\n",
    "print(\"y\" in \"xylophone\")\n",
    "\n",
    "# 18\n",
    "my_string = \"noooo no\"\n",
    "my_string.islower()\n",
    "print(my_string.islower())"
   ]
  },
  {
   "cell_type": "code",
   "execution_count": null,
   "id": "90d2c8b6-bb9d-49cd-94c9-4c11e8f0494a",
   "metadata": {},
   "outputs": [],
   "source": []
  }
 ],
 "metadata": {
  "kernelspec": {
   "display_name": "Python 3 (ipykernel)",
   "language": "python",
   "name": "python3"
  },
  "language_info": {
   "codemirror_mode": {
    "name": "ipython",
    "version": 3
   },
   "file_extension": ".py",
   "mimetype": "text/x-python",
   "name": "python",
   "nbconvert_exporter": "python",
   "pygments_lexer": "ipython3",
   "version": "3.12.5"
  }
 },
 "nbformat": 4,
 "nbformat_minor": 5
}
